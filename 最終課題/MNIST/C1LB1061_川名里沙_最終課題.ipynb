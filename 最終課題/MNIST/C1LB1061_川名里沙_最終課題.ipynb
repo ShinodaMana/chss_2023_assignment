{
  "nbformat": 4,
  "nbformat_minor": 0,
  "metadata": {
    "colab": {
      "provenance": []
    },
    "kernelspec": {
      "name": "python3",
      "display_name": "Python 3"
    },
    "language_info": {
      "name": "python"
    }
  },
  "cells": [
    {
      "cell_type": "markdown",
      "source": [
        "MNISTデータを用いて、手書き数字を識別機械学習モデルを構築、評価しなさい。"
      ],
      "metadata": {
        "id": "80yXfq3kBZBD"
      }
    },
    {
      "cell_type": "code",
      "execution_count": 52,
      "metadata": {
        "colab": {
          "base_uri": "https://localhost:8080/"
        },
        "id": "G-ww3LZ6u4bU",
        "outputId": "15653644-45ad-4dc5-e9e2-4aabbfb7f66e"
      },
      "outputs": [
        {
          "output_type": "stream",
          "name": "stderr",
          "text": [
            "/usr/local/lib/python3.10/dist-packages/sklearn/datasets/_openml.py:968: FutureWarning: The default value of `parser` will change from `'liac-arff'` to `'auto'` in 1.4. You can set `parser='auto'` to silence this warning. Therefore, an `ImportError` will be raised from 1.4 if the dataset is dense and pandas is not installed. Note that the pandas parser may return different data types. See the Notes Section in fetch_openml's API doc for details.\n",
            "  warn(\n"
          ]
        }
      ],
      "source": [
        "from sklearn.datasets import fetch_openml\n",
        "minist = fetch_openml('mnist_784', version=1, as_frame=False)"
      ]
    },
    {
      "cell_type": "code",
      "source": [
        "import tensorflow as tf\n",
        "import numpy as np\n",
        "import matplotlib.pyplot as plt\n",
        "from sklearn.model_selection import train_test_split\n",
        "from sklearn.ensemble import RandomForestClassifier\n",
        "from sklearn.metrics import classification_report, accuracy_score"
      ],
      "metadata": {
        "id": "bxUFMBUcK0eO"
      },
      "execution_count": 83,
      "outputs": []
    },
    {
      "cell_type": "code",
      "source": [
        "x = minist.data\n",
        "y = minist.target\n",
        "\n",
        "y = np.asfarray(y, dtype = float)\n",
        "\n",
        "# 訓練データと試験データに7:3に分割\n",
        "x_train, x_test, y_train, y_test = train_test_split(x, y, test_size=0.3,random_state = 1)\n",
        "\n",
        "\n",
        "#学習モデルの構築\n",
        "model =  tf.keras.models.Sequential()\n",
        "model.add(tf.keras.layers.Dense(128, activation = 'relu', input_shape=(784,)))\n",
        "model.add(tf.keras.layers.Dropout(0.2))\n",
        "model.add(tf.keras.layers.Dense(10))\n",
        "model.add(tf.keras.layers.Activation(tf.keras.activations.softmax))\n",
        "\n",
        "model.compile(optimizer='adam',\n",
        "              loss='sparse_categorical_crossentropy',\n",
        "              metrics=['accuracy'])\n",
        "model.fit(x_train, y_train, epochs = 10)\n",
        "\n",
        "#モデルの評価\n",
        "model.evaluate(x_test, y_test)"
      ],
      "metadata": {
        "colab": {
          "base_uri": "https://localhost:8080/"
        },
        "id": "fKjTbTetBkVB",
        "outputId": "274f3c4b-5e2b-4479-db0d-2f94daef1406"
      },
      "execution_count": 153,
      "outputs": [
        {
          "output_type": "stream",
          "name": "stdout",
          "text": [
            "Epoch 1/10\n",
            "1532/1532 [==============================] - 8s 4ms/step - loss: 2.7847 - accuracy: 0.7513\n",
            "Epoch 2/10\n",
            "1532/1532 [==============================] - 7s 5ms/step - loss: 0.6093 - accuracy: 0.8388\n",
            "Epoch 3/10\n",
            "1532/1532 [==============================] - 6s 4ms/step - loss: 0.4846 - accuracy: 0.8697\n",
            "Epoch 4/10\n",
            "1532/1532 [==============================] - 6s 4ms/step - loss: 0.4393 - accuracy: 0.8840\n",
            "Epoch 5/10\n",
            "1532/1532 [==============================] - 7s 5ms/step - loss: 0.3984 - accuracy: 0.8958\n",
            "Epoch 6/10\n",
            "1532/1532 [==============================] - 7s 4ms/step - loss: 0.3761 - accuracy: 0.9025\n",
            "Epoch 7/10\n",
            "1532/1532 [==============================] - 7s 5ms/step - loss: 0.3575 - accuracy: 0.9080\n",
            "Epoch 8/10\n",
            "1532/1532 [==============================] - 6s 4ms/step - loss: 0.3565 - accuracy: 0.9091\n",
            "Epoch 9/10\n",
            "1532/1532 [==============================] - 8s 5ms/step - loss: 0.3453 - accuracy: 0.9117\n",
            "Epoch 10/10\n",
            "1532/1532 [==============================] - 6s 4ms/step - loss: 0.3380 - accuracy: 0.9161\n",
            "657/657 [==============================] - 1s 2ms/step - loss: 0.2790 - accuracy: 0.9402\n"
          ]
        },
        {
          "output_type": "execute_result",
          "data": {
            "text/plain": [
              "[0.2789989113807678, 0.9401904940605164]"
            ]
          },
          "metadata": {},
          "execution_count": 153
        }
      ]
    },
    {
      "cell_type": "markdown",
      "source": [
        "上記の学習モデルでは、その精度はおよそ95%になった。\n",
        "では、実際に一つの数値に対して文字認識をさせてみる。以下がその結果である。"
      ],
      "metadata": {
        "id": "SA7wCQzvqIk9"
      }
    },
    {
      "cell_type": "code",
      "source": [
        "test_data = x_test[0]\n",
        "test_data_image = test_data.reshape(28,28)\n",
        "plt.imshow(test_data_image)\n",
        "\n",
        "pred = model.predict(test_data[np.newaxis])\n",
        "np.argmax(pred)"
      ],
      "metadata": {
        "colab": {
          "base_uri": "https://localhost:8080/",
          "height": 466
        },
        "id": "X_3BXZ1SquQ9",
        "outputId": "e9ec1b5f-01b7-4de0-d2b6-6fa4df9c1ba2"
      },
      "execution_count": 154,
      "outputs": [
        {
          "output_type": "stream",
          "name": "stdout",
          "text": [
            "1/1 [==============================] - 0s 65ms/step\n"
          ]
        },
        {
          "output_type": "execute_result",
          "data": {
            "text/plain": [
              "6"
            ]
          },
          "metadata": {},
          "execution_count": 154
        },
        {
          "output_type": "display_data",
          "data": {
            "text/plain": [
              "<Figure size 640x480 with 1 Axes>"
            ],
            "image/png": "[encoded data removed]"
          },
          "metadata": {}
        }
      ]
    },
    {
      "cell_type": "markdown",
      "source": [
        "最後に、実際に手書きで書いた数字を認識できるか検証してみる。"
      ],
      "metadata": {
        "id": "iOEd9do6ssD1"
      }
    },
    {
      "cell_type": "code",
      "source": [
        "from google.colab import drive\n",
        "drive.mount('/content/drive')"
      ],
      "metadata": {
        "colab": {
          "base_uri": "https://localhost:8080/"
        },
        "id": "i-HBb7ultGhw",
        "outputId": "f93ede65-e5a9-4f65-b097-7a4594c57c59"
      },
      "execution_count": 90,
      "outputs": [
        {
          "output_type": "stream",
          "name": "stdout",
          "text": [
            "Mounted at /content/drive\n"
          ]
        }
      ]
    },
    {
      "cell_type": "markdown",
      "source": [
        "以下の画像を認識させる。正しく認識できれば、出力は\"2\"になるはずだ。"
      ],
      "metadata": {
        "id": "KMPUduR4tSwc"
      }
    },
    {
      "cell_type": "code",
      "source": [
        "from PIL import Image\n",
        "img = Image.open('drive/My Drive/Colab Notebooks/Data/Test.jpg').convert('L')\n",
        "plt.imshow(img)"
      ],
      "metadata": {
        "colab": {
          "base_uri": "https://localhost:8080/",
          "height": 453
        },
        "id": "uhNoFJNMt_PU",
        "outputId": "d7c8d402-ad13-4b05-90fe-a99b19fe1487"
      },
      "execution_count": 162,
      "outputs": [
        {
          "output_type": "execute_result",
          "data": {
            "text/plain": [
              "<matplotlib.image.AxesImage at 0x7d7a9c34e110>"
            ]
          },
          "metadata": {},
          "execution_count": 162
        },
        {
          "output_type": "display_data",
          "data": {
            "text/plain": [
              "<Figure size 640x480 with 1 Axes>"
            ],
            "image/png": "[encoded data removed]"
          },
          "metadata": {}
        }
      ]
    },
    {
      "cell_type": "code",
      "source": [
        "#画像を28*28に加工\n",
        "img.thumbnail((28,28))\n",
        "img_array = np.array(img)\n",
        "test_data[np.newaxis].shape\n",
        "plt.imshow(img)"
      ],
      "metadata": {
        "colab": {
          "base_uri": "https://localhost:8080/",
          "height": 448
        },
        "id": "6qlJku_rvyjF",
        "outputId": "c30cbbd5-fe43-4b42-f1e7-fee57778a26d"
      },
      "execution_count": 160,
      "outputs": [
        {
          "output_type": "execute_result",
          "data": {
            "text/plain": [
              "<matplotlib.image.AxesImage at 0x7d7a9c18dc30>"
            ]
          },
          "metadata": {},
          "execution_count": 160
        },
        {
          "output_type": "display_data",
          "data": {
            "text/plain": [
              "<Figure size 640x480 with 1 Axes>"
            ],
            "image/png": "[encoded data removed]"
          },
          "metadata": {}
        }
      ]
    },
    {
      "cell_type": "code",
      "source": [
        "img_array_flat = np.ravel(img_array)\n",
        "pred = model.predict(img_array_flat[np.newaxis])\n",
        "np.argmax(pred)"
      ],
      "metadata": {
        "colab": {
          "base_uri": "https://localhost:8080/"
        },
        "id": "3nrTiifdx0Ro",
        "outputId": "678e3431-c97a-481f-edb8-14bdee87e9c8"
      },
      "execution_count": 161,
      "outputs": [
        {
          "output_type": "stream",
          "name": "stderr",
          "text": [
            "WARNING:tensorflow:5 out of the last 665 calls to <function Model.make_predict_function.<locals>.predict_function at 0x7d7b3007edd0> triggered tf.function retracing. Tracing is expensive and the excessive number of tracings could be due to (1) creating @tf.function repeatedly in a loop, (2) passing tensors with different shapes, (3) passing Python objects instead of tensors. For (1), please define your @tf.function outside of the loop. For (2), @tf.function has reduce_retracing=True option that can avoid unnecessary retracing. For (3), please refer to https://www.tensorflow.org/guide/function#controlling_retracing and https://www.tensorflow.org/api_docs/python/tf/function for  more details.\n"
          ]
        },
        {
          "output_type": "stream",
          "name": "stdout",
          "text": [
            "1/1 [==============================] - 0s 91ms/step\n"
          ]
        },
        {
          "output_type": "execute_result",
          "data": {
            "text/plain": [
              "2"
            ]
          },
          "metadata": {},
          "execution_count": 161
        }
      ]
    },
    {
      "cell_type": "markdown",
      "source": [
        "出力結果から、この学習モデルが効果的に機能していることがわかった。"
      ],
      "metadata": {
        "id": "f0KMwci02wEv"
      }
    }
  ]
}